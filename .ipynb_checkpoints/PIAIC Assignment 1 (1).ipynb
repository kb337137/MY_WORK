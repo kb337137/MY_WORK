{
 "cells": [
  {
   "cell_type": "markdown",
   "metadata": {},
   "source": [
    "# Q1:"
   ]
  },
  {
   "cell_type": "raw",
   "metadata": {},
   "source": [
    "Store a message in a variable, and then print that\n",
    "message."
   ]
  },
  {
   "cell_type": "code",
   "execution_count": 1,
   "metadata": {},
   "outputs": [],
   "source": [
    "msg = \"Hello World\""
   ]
  },
  {
   "cell_type": "code",
   "execution_count": 2,
   "metadata": {},
   "outputs": [
    {
     "name": "stdout",
     "output_type": "stream",
     "text": [
      "Hello World\n"
     ]
    }
   ],
   "source": [
    "print(msg)"
   ]
  },
  {
   "cell_type": "markdown",
   "metadata": {},
   "source": [
    "# Q2:"
   ]
  },
  {
   "cell_type": "raw",
   "metadata": {},
   "source": [
    "Store a message in a variable, and print that message.\n",
    "Then change the value of your variable to a new message, and print the new\n",
    "message."
   ]
  },
  {
   "cell_type": "code",
   "execution_count": 3,
   "metadata": {},
   "outputs": [],
   "source": [
    "msg = \"Hello World\""
   ]
  },
  {
   "cell_type": "code",
   "execution_count": 4,
   "metadata": {},
   "outputs": [
    {
     "name": "stdout",
     "output_type": "stream",
     "text": [
      "Hello World\n"
     ]
    }
   ],
   "source": [
    "print(msg)"
   ]
  },
  {
   "cell_type": "code",
   "execution_count": 5,
   "metadata": {},
   "outputs": [],
   "source": [
    "msg = \"This is new msg\""
   ]
  },
  {
   "cell_type": "code",
   "execution_count": 6,
   "metadata": {},
   "outputs": [
    {
     "name": "stdout",
     "output_type": "stream",
     "text": [
      "This is new msg\n"
     ]
    }
   ],
   "source": [
    "print(msg)"
   ]
  },
  {
   "cell_type": "markdown",
   "metadata": {},
   "source": [
    "# Q3:"
   ]
  },
  {
   "cell_type": "raw",
   "metadata": {},
   "source": [
    "Store a person’s name in a variable, and print a message to that person. Your message should be simple, such as, “Hello Shahzad,\n",
    "would you like to learn some Python today?”"
   ]
  },
  {
   "cell_type": "code",
   "execution_count": 7,
   "metadata": {},
   "outputs": [],
   "source": [
    "name = \"Inshal Jamal\""
   ]
  },
  {
   "cell_type": "code",
   "execution_count": 8,
   "metadata": {},
   "outputs": [
    {
     "name": "stdout",
     "output_type": "stream",
     "text": [
      "\"Hello Inshal Jamal, would you like to learn Python today\"\n"
     ]
    }
   ],
   "source": [
    "print(f'\"Hello {name}, would you like to learn Python today\"')"
   ]
  },
  {
   "cell_type": "markdown",
   "metadata": {},
   "source": [
    "# Q4:"
   ]
  },
  {
   "cell_type": "raw",
   "metadata": {},
   "source": [
    "Store a person’s name in a variable, and then print that person’s name in lowercase, uppercase, and titlecase."
   ]
  },
  {
   "cell_type": "code",
   "execution_count": 9,
   "metadata": {},
   "outputs": [],
   "source": [
    "name = \"Inshal Jamal\""
   ]
  },
  {
   "cell_type": "code",
   "execution_count": 10,
   "metadata": {},
   "outputs": [
    {
     "name": "stdout",
     "output_type": "stream",
     "text": [
      "inshal jamal\n"
     ]
    }
   ],
   "source": [
    "print(name.lower())"
   ]
  },
  {
   "cell_type": "code",
   "execution_count": 11,
   "metadata": {},
   "outputs": [
    {
     "name": "stdout",
     "output_type": "stream",
     "text": [
      "INSHAL JAMAL\n"
     ]
    }
   ],
   "source": [
    "print(name.upper())"
   ]
  },
  {
   "cell_type": "code",
   "execution_count": 12,
   "metadata": {},
   "outputs": [
    {
     "name": "stdout",
     "output_type": "stream",
     "text": [
      "Inshal Jamal\n"
     ]
    }
   ],
   "source": [
    "print(name.title())"
   ]
  },
  {
   "cell_type": "markdown",
   "metadata": {},
   "source": [
    "# Q5:"
   ]
  },
  {
   "cell_type": "raw",
   "metadata": {},
   "source": [
    "Find a quote from a famous person you admire. Print the\n",
    "quote and the name of its author. Your output should look something like the\n",
    "following, including the quotation marks:\n",
    "    \n",
    "    \n",
    "Albert Einstein once said, “A person who never made a\n",
    "mistake never tried anything new.”"
   ]
  },
  {
   "cell_type": "code",
   "execution_count": 13,
   "metadata": {},
   "outputs": [],
   "source": [
    "name = \"Albert Einstein\""
   ]
  },
  {
   "cell_type": "code",
   "execution_count": 14,
   "metadata": {},
   "outputs": [
    {
     "name": "stdout",
     "output_type": "stream",
     "text": [
      "Albert Einstein once said, \"A person who never made a mistake never tried anything new.\"\n"
     ]
    }
   ],
   "source": [
    "print(f'{name} once said, \"A person who never made a mistake never tried anything new.\"')"
   ]
  },
  {
   "cell_type": "markdown",
   "metadata": {},
   "source": [
    "# Q6:"
   ]
  },
  {
   "cell_type": "raw",
   "metadata": {},
   "source": [
    "Write addition, subtraction, multiplication, and division\n",
    "operations that each result in the number 8. Be sure to enclose your operations\n",
    "in print statements to see the results. You should create four lines that look\n",
    "like this:\n",
    "    \n",
    "    \n",
    "print(5 + 3)"
   ]
  },
  {
   "cell_type": "code",
   "execution_count": 16,
   "metadata": {},
   "outputs": [
    {
     "name": "stdout",
     "output_type": "stream",
     "text": [
      "8\n"
     ]
    }
   ],
   "source": [
    "print(5+3)"
   ]
  },
  {
   "cell_type": "code",
   "execution_count": 17,
   "metadata": {},
   "outputs": [
    {
     "name": "stdout",
     "output_type": "stream",
     "text": [
      "8\n"
     ]
    }
   ],
   "source": [
    "print(13-5)"
   ]
  },
  {
   "cell_type": "code",
   "execution_count": 18,
   "metadata": {},
   "outputs": [
    {
     "name": "stdout",
     "output_type": "stream",
     "text": [
      "8.0\n"
     ]
    }
   ],
   "source": [
    "print(40/5)"
   ]
  },
  {
   "cell_type": "code",
   "execution_count": 19,
   "metadata": {},
   "outputs": [
    {
     "name": "stdout",
     "output_type": "stream",
     "text": [
      "8\n"
     ]
    }
   ],
   "source": [
    "print(2*4)"
   ]
  },
  {
   "cell_type": "markdown",
   "metadata": {},
   "source": [
    "# Q7:"
   ]
  },
  {
   "cell_type": "raw",
   "metadata": {},
   "source": [
    "Create a variable called number1 with the value of 8.\n",
    "Write a print statement to print number1 multiplied by 9."
   ]
  },
  {
   "cell_type": "code",
   "execution_count": 20,
   "metadata": {},
   "outputs": [],
   "source": [
    "number1 = 8"
   ]
  },
  {
   "cell_type": "code",
   "execution_count": 21,
   "metadata": {},
   "outputs": [
    {
     "name": "stdout",
     "output_type": "stream",
     "text": [
      "72\n"
     ]
    }
   ],
   "source": [
    "print(number1*9)"
   ]
  },
  {
   "cell_type": "markdown",
   "metadata": {},
   "source": [
    "# Q8:"
   ]
  },
  {
   "cell_type": "raw",
   "metadata": {},
   "source": [
    "Store your favorite number in a variable. Then, using\n",
    "that variable, create a message that reveals your favorite number. Print that\n",
    "message."
   ]
  },
  {
   "cell_type": "code",
   "execution_count": 23,
   "metadata": {},
   "outputs": [],
   "source": [
    "num = 11"
   ]
  },
  {
   "cell_type": "code",
   "execution_count": 24,
   "metadata": {},
   "outputs": [
    {
     "name": "stdout",
     "output_type": "stream",
     "text": [
      "My favourite number is 11\n"
     ]
    }
   ],
   "source": [
    "print('My favourite number is',num)"
   ]
  },
  {
   "cell_type": "markdown",
   "metadata": {},
   "source": [
    "# Q9:"
   ]
  },
  {
   "cell_type": "raw",
   "metadata": {},
   "source": [
    "Store your name and your age in a varibale called my_name and my_age.\n",
    "Use format method to print your name and your age.\n",
    "Your final output sholud be like this:\n",
    "\n",
    "OUTPUT:    \n",
    "My name is Shahzad Ahsan and my age is 21.\n",
    "\n",
    "NOTE:Use both of the format methods which were discuss in the class."
   ]
  },
  {
   "cell_type": "code",
   "execution_count": 25,
   "metadata": {},
   "outputs": [],
   "source": [
    "my_name = \"Inshal Jamal\""
   ]
  },
  {
   "cell_type": "code",
   "execution_count": 26,
   "metadata": {},
   "outputs": [],
   "source": [
    "my_age = 21"
   ]
  },
  {
   "cell_type": "code",
   "execution_count": 27,
   "metadata": {},
   "outputs": [
    {
     "name": "stdout",
     "output_type": "stream",
     "text": [
      "My name is Inshal Jamal and my age is 21\n"
     ]
    }
   ],
   "source": [
    "print('My name is {} and my age is {}'.format(my_name,my_age))"
   ]
  },
  {
   "cell_type": "code",
   "execution_count": 30,
   "metadata": {},
   "outputs": [
    {
     "name": "stdout",
     "output_type": "stream",
     "text": [
      "My name is Inshal Jamal and my age is 21\n"
     ]
    }
   ],
   "source": [
    "print(f'My name is {my_name} and my age is {my_age}')"
   ]
  },
  {
   "cell_type": "markdown",
   "metadata": {},
   "source": [
    "# Q10:"
   ]
  },
  {
   "cell_type": "raw",
   "metadata": {},
   "source": [
    "Write a Python program to check if a number is positive, negative or zero."
   ]
  },
  {
   "cell_type": "code",
   "execution_count": 1,
   "metadata": {},
   "outputs": [],
   "source": [
    "num = 5"
   ]
  },
  {
   "cell_type": "code",
   "execution_count": 2,
   "metadata": {},
   "outputs": [
    {
     "name": "stdout",
     "output_type": "stream",
     "text": [
      "Positive\n"
     ]
    }
   ],
   "source": [
    "if num > 0:\n",
    "    print('Positive')\n",
    "elif num < 0:\n",
    "    print('Negative')\n",
    "else:\n",
    "    print('Zero')"
   ]
  },
  {
   "cell_type": "markdown",
   "metadata": {},
   "source": [
    "# Q11:"
   ]
  },
  {
   "cell_type": "raw",
   "metadata": {},
   "source": [
    "Write a Python program which accepts the radius of a circle from the user and compute the\n",
    "area."
   ]
  },
  {
   "cell_type": "code",
   "execution_count": 33,
   "metadata": {},
   "outputs": [
    {
     "name": "stdout",
     "output_type": "stream",
     "text": [
      "Enter the radius of a circle5\n"
     ]
    }
   ],
   "source": [
    "radius = float(input('Enter the radius of a circle'))"
   ]
  },
  {
   "cell_type": "code",
   "execution_count": 34,
   "metadata": {},
   "outputs": [],
   "source": [
    "area = 2*3.14*radius"
   ]
  },
  {
   "cell_type": "code",
   "execution_count": 35,
   "metadata": {},
   "outputs": [
    {
     "name": "stdout",
     "output_type": "stream",
     "text": [
      "31.400000000000002\n"
     ]
    }
   ],
   "source": [
    "print(area)"
   ]
  },
  {
   "cell_type": "markdown",
   "metadata": {},
   "source": [
    "# Q12:"
   ]
  },
  {
   "cell_type": "raw",
   "metadata": {},
   "source": [
    "Write a Python function to check whether a number is completely divisible by another\n",
    "number. Accept two integer values form the user"
   ]
  },
  {
   "cell_type": "code",
   "execution_count": 36,
   "metadata": {},
   "outputs": [
    {
     "name": "stdout",
     "output_type": "stream",
     "text": [
      "Enter number 1: 5\n",
      "Enter number 2: 5\n"
     ]
    }
   ],
   "source": [
    "a = int(input('Enter number 1: '))\n",
    "b = int(input('Enter number 2: '))"
   ]
  },
  {
   "cell_type": "code",
   "execution_count": 37,
   "metadata": {},
   "outputs": [
    {
     "name": "stdout",
     "output_type": "stream",
     "text": [
      "It is divisible\n"
     ]
    }
   ],
   "source": [
    "if a%b == 0:\n",
    "    print('It is divisible')\n",
    "else:\n",
    "    print('It is not divisible')"
   ]
  },
  {
   "cell_type": "markdown",
   "metadata": {},
   "source": [
    "# Q13:"
   ]
  },
  {
   "cell_type": "raw",
   "metadata": {},
   "source": [
    "Write a Python program to find whether a given number (accept from the user) is even or\n",
    "odd, print out an appropriate message to the user."
   ]
  },
  {
   "cell_type": "code",
   "execution_count": 38,
   "metadata": {},
   "outputs": [
    {
     "name": "stdout",
     "output_type": "stream",
     "text": [
      "Enter a number: 10\n"
     ]
    }
   ],
   "source": [
    "num = int(input('Enter a number: '))"
   ]
  },
  {
   "cell_type": "code",
   "execution_count": 39,
   "metadata": {},
   "outputs": [
    {
     "name": "stdout",
     "output_type": "stream",
     "text": [
      "The number is even\n"
     ]
    }
   ],
   "source": [
    "if num % 2 == 0:\n",
    "    print('The number is even')\n",
    "else:\n",
    "    print('The number is odd')"
   ]
  },
  {
   "cell_type": "markdown",
   "metadata": {},
   "source": [
    "# Q14:"
   ]
  },
  {
   "cell_type": "raw",
   "metadata": {},
   "source": [
    " Print a suitable statement that uses their response. Such as, if they entered “Bangkok”: “I’d love to visit Bangkook more often”."
   ]
  },
  {
   "cell_type": "code",
   "execution_count": 40,
   "metadata": {},
   "outputs": [
    {
     "name": "stdout",
     "output_type": "stream",
     "text": [
      "Enter your response: Pakistan\n"
     ]
    }
   ],
   "source": [
    "response = input('Enter your response: ')"
   ]
  },
  {
   "cell_type": "code",
   "execution_count": 41,
   "metadata": {},
   "outputs": [
    {
     "name": "stdout",
     "output_type": "stream",
     "text": [
      "\"I\"d love to visit Pakistan more often\".\n"
     ]
    }
   ],
   "source": [
    "print(f'\"I\"d love to visit {response} more often\".')"
   ]
  },
  {
   "cell_type": "markdown",
   "metadata": {},
   "source": [
    "# Q15:"
   ]
  },
  {
   "cell_type": "raw",
   "metadata": {},
   "source": [
    "Write an input line to ask a user whether they want to take the red pill or the blue pill.\n",
    "\n",
    " If they write “red” then print “You stay in wonderland and see how far the rabbit hole goes”.\n",
    " \n",
    " Elif they write “blue” then print “You wake up in your bed and believe what you want to believe.”.\n",
    " \n",
    " Else print “That’s not an option Neo.”"
   ]
  },
  {
   "cell_type": "code",
   "execution_count": 46,
   "metadata": {},
   "outputs": [
    {
     "name": "stdout",
     "output_type": "stream",
     "text": [
      "Which pill do you want to take red or blue ?white\n"
     ]
    }
   ],
   "source": [
    "pill = input('Which pill do you want to take red or blue ?')"
   ]
  },
  {
   "cell_type": "code",
   "execution_count": 47,
   "metadata": {},
   "outputs": [
    {
     "name": "stdout",
     "output_type": "stream",
     "text": [
      "“That’s not an option Neo.”\n"
     ]
    }
   ],
   "source": [
    "if pill.lower() == 'red':\n",
    "    print('“You stay in wonderland and see how far the rabbit hole goes”.')\n",
    "elif pill.lower() == 'blue':\n",
    "    print('“You wake up in your bed and believe what you want to believe.”.')\n",
    "else:\n",
    "    print('“That’s not an option Neo.”')"
   ]
  }
 ],
 "metadata": {
  "kernelspec": {
   "display_name": "Python 3",
   "language": "python",
   "name": "python3"
  },
  "language_info": {
   "codemirror_mode": {
    "name": "ipython",
    "version": 3
   },
   "file_extension": ".py",
   "mimetype": "text/x-python",
   "name": "python",
   "nbconvert_exporter": "python",
   "pygments_lexer": "ipython3",
   "version": "3.7.3"
  }
 },
 "nbformat": 4,
 "nbformat_minor": 2
}
