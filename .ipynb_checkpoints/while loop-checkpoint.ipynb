{
 "cells": [
  {
   "cell_type": "code",
   "execution_count": 3,
   "metadata": {},
   "outputs": [
    {
     "name": "stdout",
     "output_type": "stream",
     "text": [
      "0\n",
      "1\n",
      "2\n",
      "3\n"
     ]
    }
   ],
   "source": [
    "i = 0\n",
    "while i <= 6:\n",
    "    print(i)\n",
    "    if i == 3:\n",
    "        break\n",
    "    i += 1"
   ]
  },
  {
   "cell_type": "code",
   "execution_count": 4,
   "metadata": {},
   "outputs": [
    {
     "name": "stdout",
     "output_type": "stream",
     "text": [
      "1\n",
      "2\n",
      "4\n",
      "5\n",
      "6\n",
      "7\n"
     ]
    }
   ],
   "source": [
    "i = 0\n",
    "while i <= 6:\n",
    "    i += 1\n",
    "    if i == 3:\n",
    "        continue\n",
    "    print(i)"
   ]
  },
  {
   "cell_type": "code",
   "execution_count": 5,
   "metadata": {},
   "outputs": [
    {
     "name": "stdout",
     "output_type": "stream",
     "text": [
      "Enter the name of a city: Great Falls\n",
      "It's one of the cleanest cities\n"
     ]
    }
   ],
   "source": [
    "cleanest_cities = [\"Cheyenne\", \"Santa Fe\", \"Tucson\",\"Great Falls\", \"Honolulu\"]\n",
    "city_to_check = input(\"Enter the name of a city: \")\n",
    "for a_clean_city in cleanest_cities:\n",
    "    if city_to_check == a_clean_city:\n",
    "        print(\"It's one of the cleanest cities\")\n",
    "        break"
   ]
  },
  {
   "cell_type": "code",
   "execution_count": 9,
   "metadata": {},
   "outputs": [
    {
     "name": "stdout",
     "output_type": "stream",
     "text": [
      "Enter a City or q to quit :sa\n",
      "Enter a City or q to quit :sa\n",
      "Enter a City or q to quit :sa\n",
      "Enter a City or q to quit :sa\n",
      "Enter a City or q to quit :sa\n",
      "Enter a City or q to quit :sa\n",
      "Enter a City or q to quit :sa\n",
      "Enter a City or q to quit :sa\n",
      "Enter a City or q to quit :sa\n",
      "Enter a City or q to quit :sa\n",
      "Enter a City or q to quit :sa\n",
      "Enter a City or q to quit :sa\n",
      "Enter a City or q to quit :sa\n",
      "Enter a City or q to quit :sa\n",
      "Enter a City or q to quit :sa\n",
      "Enter a City or q to quit :q\n"
     ]
    }
   ],
   "source": [
    "username = \"\"\n",
    "while username != \"q\":\n",
    "    username = input(\"Enter a City or q to quit :\")\n",
    "    if username != \"q\":\n",
    "        for a_clean_city in cleanest_cities:\n",
    "            if username == a_clean_city:\n",
    "                print(\"It's one of the cleanest cities\")\n",
    "                break"
   ]
  },
  {
   "cell_type": "code",
   "execution_count": 16,
   "metadata": {},
   "outputs": [],
   "source": [
    "def add():\n",
    "    global a\n",
    "    global b\n",
    "    a = 45\n",
    "    b = 45\n",
    "    c = a+b\n",
    "    return c "
   ]
  },
  {
   "cell_type": "code",
   "execution_count": 17,
   "metadata": {},
   "outputs": [
    {
     "data": {
      "text/plain": [
       "90"
      ]
     },
     "execution_count": 17,
     "metadata": {},
     "output_type": "execute_result"
    }
   ],
   "source": [
    "add()"
   ]
  },
  {
   "cell_type": "code",
   "execution_count": 18,
   "metadata": {},
   "outputs": [
    {
     "name": "stdout",
     "output_type": "stream",
     "text": [
      "45\n"
     ]
    }
   ],
   "source": [
    "print(a)"
   ]
  },
  {
   "cell_type": "code",
   "execution_count": 19,
   "metadata": {},
   "outputs": [],
   "source": [
    "a = 45"
   ]
  },
  {
   "cell_type": "code",
   "execution_count": 20,
   "metadata": {},
   "outputs": [
    {
     "data": {
      "text/plain": [
       "45"
      ]
     },
     "execution_count": 20,
     "metadata": {},
     "output_type": "execute_result"
    }
   ],
   "source": [
    "a"
   ]
  },
  {
   "cell_type": "code",
   "execution_count": 22,
   "metadata": {},
   "outputs": [
    {
     "name": "stdout",
     "output_type": "stream",
     "text": [
      "ENter a any wordsa\n",
      "ENter a any wordsa\n",
      "ENter a any wordsa\n",
      "ENter a any wordsa\n",
      "ENter a any wordsa\n",
      "ENter a any wordsa\n",
      "ENter a any wordsa\n",
      "ENter a any wordsa\n",
      "ENter a any wordsa\n",
      "ENter a any wordsa\n",
      "ENter a any wordsa\n",
      "ENter a any wordq\n",
      "['sa', 'sa', 'sa', 'sa', 'sa', 'sa', 'sa', 'sa', 'sa', 'sa', 'sa']\n"
     ]
    }
   ],
   "source": [
    "emplist = []\n",
    "flag = True\n",
    "while flag:\n",
    "    sa = input(\"ENter a any word\")\n",
    "    if sa == \"q\":\n",
    "        flag = False\n",
    "    else:\n",
    "        emplist.append(sa)\n",
    "print(emplist)"
   ]
  },
  {
   "cell_type": "code",
   "execution_count": null,
   "metadata": {},
   "outputs": [],
   "source": []
  }
 ],
 "metadata": {
  "kernelspec": {
   "display_name": "Python 3",
   "language": "python",
   "name": "python3"
  },
  "language_info": {
   "codemirror_mode": {
    "name": "ipython",
    "version": 3
   },
   "file_extension": ".py",
   "mimetype": "text/x-python",
   "name": "python",
   "nbconvert_exporter": "python",
   "pygments_lexer": "ipython3",
   "version": "3.7.3"
  }
 },
 "nbformat": 4,
 "nbformat_minor": 2
}
